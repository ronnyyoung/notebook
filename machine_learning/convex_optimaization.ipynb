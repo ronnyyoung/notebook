{
 "cells": [
  {
   "cell_type": "markdown",
   "metadata": {},
   "source": [
    "# Introduction\n",
    "\n",
    "很多机器学习算法，最后都演化为了优化问题。在有监督学习中，我们总是定义预测值与真实值之间的损失函数，我们的优化目标就是找到一组参数来使得损失函数达到最小。像之前介绍过的Least-Squares, Logistic Regression, 以及Support Vector Machines都可以看成为对损失函数的优化问题。\n",
    "\n",
    "事实证明，想求一个函数的全局最值是一件非常困难的事情。然后，对于有一类优化问题，我们称它为**convex optimization problems**，我们可以很efficiently 找到全局最优解。这里的efficiently是指对于这一类的优化问题，我们可以在一个多项式时间（polynomially）内求解。"
   ]
  },
  {
   "cell_type": "markdown",
   "metadata": {},
   "source": [
    "# Convex Sets\n",
    "\n",
    "**Definition** $C$ is convex if, for any $x ,y \\in C$ and $\\theta \\in \\mathbf{R}$ with $0 \\le \\theta \\le 1$,\n",
    "$$\\theta x + (1-\\theta)y\\in C$$\n",
    "\n",
    "直觉上讲，就是在一个集合C里的两个点，我们在这两个点之间画一条线段，这条线段上的所有点都属于这个集合。线段上的点$\\theta x + (1-\\theta)y$也被叫作点$x$与点$y$的**convex combination**。\n",
    "\n",
    "![](images/notebook_ml_co_001.png)\n",
    "\n",
    "Convex Sets的一些例子：\n",
    "\n",
    "- All of $\\mathbb{R^n}$\n",
    "- set $\\{x\\in\\mathbb{R^n}:Ax = b\\}$\n",
    "- set $\\{x\\in\\mathbb{R^n}:Ax \\preceq b\\}$\n",
    "- 凸集的交集还是凸集，但凸集的并集并不一定是凸集\n",
    "- 半正定矩阵、正定矩阵，负定矩阵，半负定矩阵"
   ]
  },
  {
   "cell_type": "markdown",
   "metadata": {
    "collapsed": true
   },
   "source": [
    "# Convex Function\n",
    "\n",
    "**Definition** A function $f:\\mathbb{R^n}\\to\\mathbb{R}$ is convex if its domain (denoted $\\mathcal{D}(f))$ is a convex set , and if, for all $x,y\\in\\mathcal{D}$ and $\\theta\\in\\mathbb{R}, 0\\le\\theta\\le1$,\n",
    "$$f(\\theta x+(1-\\theta)y) \\le \\theta f(x) + (1-\\theta)f(y)$$\n",
    "\n",
    "![Graph of a convex function](images/notebook_ml_co_002.png)"
   ]
  },
  {
   "cell_type": "code",
   "execution_count": null,
   "metadata": {
    "collapsed": true
   },
   "outputs": [],
   "source": []
  }
 ],
 "metadata": {
  "kernelspec": {
   "display_name": "Python 2",
   "language": "python",
   "name": "python2"
  },
  "language_info": {
   "codemirror_mode": {
    "name": "ipython",
    "version": 2
   },
   "file_extension": ".py",
   "mimetype": "text/x-python",
   "name": "python",
   "nbconvert_exporter": "python",
   "pygments_lexer": "ipython2",
   "version": "2.7.13"
  }
 },
 "nbformat": 4,
 "nbformat_minor": 0
}
