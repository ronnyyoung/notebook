{
 "cells": [
  {
   "cell_type": "markdown",
   "metadata": {},
   "source": [
    "# 基本概念\n",
    "\n",
    "这里我们先定义一下机器学习中常用的概念及其对应的数据符号：\n",
    "\n",
    "我们习惯用$x^{(i)}$来表示**输入**变量，有时候我们也称之为特征变量。用$y^{(i)}$来表**输出**变量，或者叫目标值。\n",
    "\n",
    "由它们组成的一对数据$(x^{(i)},y^{(i)})$被称为一个**训练样本**，很多这样的数据对组成的一个大的数据$\\{(x^{(i)},y^{(i)});i=1,\\cdots,m\\}$被称为**训练集**。\n",
    "\n",
    "我们也用$\\mathcal{X}$来表示输入空间，$\\mathcal{Y}$来表示输出空间，对于一般的分类和回归而言，$\\mathcal{X}\\in\\mathbb{R}^n， \\mathcal{Y}\\in\\mathbb{R}$"
   ]
  },
  {
   "cell_type": "markdown",
   "metadata": {},
   "source": [
    "# 有监督学习\n",
    "\n",
    "有监督学习的目标是，对于给定的一个训练集，学习一个映射函数$h:\\mathcal{X}\\to\\mathcal{Y}$，其中$h(x)$能够对于相应的$y$做出很好的预测。这里我们称$h$为一个**假设函数(hypothesis)**。整个过程可以用下图下描述。"
   ]
  },
  {
   "cell_type": "markdown",
   "metadata": {},
   "source": [
    "![](images/notebook_ml_aml_001.png)"
   ]
  },
  {
   "cell_type": "markdown",
   "metadata": {},
   "source": [
    "在监督学习中，当我们的需要预测的目标变量为像房价这样的连续的值时，我们称这样的问题为一个**回归问题**。当我们需要预测的目标变量是一个离散值，比如房屋是否值得购买（0表示不值得购买，1表示值得购买）时，这种问题称为**分类问题**。"
   ]
  }
 ],
 "metadata": {
  "kernelspec": {
   "display_name": "Python 2",
   "language": "python",
   "name": "python2"
  },
  "language_info": {
   "codemirror_mode": {
    "name": "ipython",
    "version": 2
   },
   "file_extension": ".py",
   "mimetype": "text/x-python",
   "name": "python",
   "nbconvert_exporter": "python",
   "pygments_lexer": "ipython2",
   "version": "2.7.13"
  }
 },
 "nbformat": 4,
 "nbformat_minor": 0
}
